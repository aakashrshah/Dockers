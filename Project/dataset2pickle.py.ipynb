{
 "cells": [
  {
   "cell_type": "code",
   "execution_count": 3,
   "metadata": {},
   "outputs": [],
   "source": [
    "import numpy as np\n",
    "import pickle\n",
    "import pandas as pd\n",
    "from sklearn import neighbors, preprocessing\n",
    "from sklearn.model_selection import train_test_split\n",
    "import matplotlib.pyplot as plt\n",
    "from matplotlib import style\n",
    "from tensorflow.examples.tutorials.mnist import input_data\n",
    "\n",
    "%matplotlib notebook"
   ]
  },
  {
   "cell_type": "raw",
   "metadata": {},
   "source": [
    "# Reading Data Set\n",
    "\n",
    "train_file = \"fashionmnist/fashion-mnist_train.csv\"\n",
    "test_file = \"fashionmnist/fashion-mnist_test.csv\"\n",
    "\n",
    "# df_train = pd.read_csv(train_file)\n",
    "# df_test = pd.read_csv(test_file)\n",
    "# df_train.tail()\n",
    "\n",
    "# Converting to Pickle\n",
    "\n",
    "# df_train.to_pickle(\"TrainPickle.data\")\n",
    "# df_test.to_pickle(\"TestPickle.data\")\n",
    "\n",
    "df_train = pd.read_pickle(\"TrainPickle.data\")\n",
    "df_test = pd.read_pickle(\"TestPickle.data\")\n",
    "\n",
    "# No missing data\n",
    "# df.replace('?',-99999,inplace=True)\n",
    "# df.fillna(-99999,inplace=True)"
   ]
  },
  {
   "cell_type": "raw",
   "metadata": {},
   "source": [
    "# Fitting.\n",
    "label = 'label' #Label variable\n",
    "\n",
    "# # X axis has everything but the labels, and Y axis has only labels.\n",
    "# X_train = np.array(df_train.drop([label],1))\n",
    "# y_train = np.array(df_train[label])\n",
    "\n",
    "# # X axis has everything but the labels, and Y axis has only labels.\n",
    "# X_test = np.array(df_test.drop([label],1))\n",
    "# y_test = np.array(df_test[label])\n",
    "\n",
    "# X_train.dump(\"XTrainPickle.data\")\n",
    "# y_train.dump(\"YTrainPickle.data\")\n",
    "# X_test.dump(\"XTestPickle.data\")\n",
    "# y_test.dump(\"YTestPickle.data\")\n",
    "\n",
    "X_train = np.load(\"XTrainPickle.data\")\n",
    "y_train = np.load(\"YTrainPickle.data\")\n",
    "X_test = np.load(\"XTestPickle.data\")\n",
    "y_test = np.load(\"YTestPickle.data\")"
   ]
  },
  {
   "cell_type": "raw",
   "metadata": {},
   "source": [
    "# K Nearest Neighbor\n",
    "\n",
    "clf = neighbors.KNeighborsClassifier(n_jobs=-1)\n",
    "clf.fit(X_train, y_train)\n",
    "accuracy = clf.score(X_test, y_test)\n",
    "print(accuracy)\n",
    "\n",
    "# clf = neighbors.KNeighborsClassifier(n_jobs=-1)\n",
    "# pickle.dump(clf,\"CLFPickle.data\")\n",
    "# clf = pickle.load(\"CLFPickle.data\")\n",
    "# accuracy = clf.score(X_test, y_test)\n",
    "# print(accuracy)"
   ]
  },
  {
   "cell_type": "raw",
   "metadata": {},
   "source": [
    "# K Nearest Neighbor\n",
    "\n",
    "# Scoring and Predicting\n",
    "example_measures = np.array([X_test[0]])\n",
    "prediction = clf.predict(example_measures)\n",
    "\n",
    "# Printing\n",
    "for idx,x in enumerate(prediction):\n",
    "    if(x==0):\n",
    "        print(\"T-shirt/top\")\n",
    "    elif(x==1):\n",
    "        print(\"Trouser\")\n",
    "    elif(x==2):\n",
    "        print(\"Pullover\")\n",
    "    elif(x==3):\n",
    "        print(\"Dress\")\n",
    "    elif(x==4):\n",
    "        print(\"Coat\")\n",
    "    elif(x==5):\n",
    "        print(\"Sandal\")\n",
    "    elif(x==6):\n",
    "        print(\"Shirt\")\n",
    "    elif(x==7):\n",
    "        print(\"Sneaker\")\n",
    "    elif(x==8):\n",
    "        print(\"Bag\")\n",
    "    elif(x==9):\n",
    "        print(\"Ankle boot\")"
   ]
  },
  {
   "cell_type": "code",
   "execution_count": 6,
   "metadata": {},
   "outputs": [
    {
     "name": "stdout",
     "output_type": "stream",
     "text": [
      "Extracting data/fashion/train-images-idx3-ubyte.gz\n",
      "Extracting data/fashion/train-labels-idx1-ubyte.gz\n",
      "Extracting data/fashion/t10k-images-idx3-ubyte.gz\n",
      "Extracting data/fashion/t10k-labels-idx1-ubyte.gz\n"
     ]
    }
   ],
   "source": [
    "data = input_data.read_data_sets('data/fashion', source_url='http://fashion-mnist.s3-website.eu-central-1.amazonaws.com/')\n"
   ]
  },
  {
   "cell_type": "code",
   "execution_count": 10,
   "metadata": {},
   "outputs": [
    {
     "name": "stdout",
     "output_type": "stream",
     "text": [
      "Datasets(train=<tensorflow.contrib.learn.python.learn.datasets.mnist.DataSet object at 0x7f1aea4fdb70>, validation=<tensorflow.contrib.learn.python.learn.datasets.mnist.DataSet object at 0x7f1aea4a09e8>, test=<tensorflow.contrib.learn.python.learn.datasets.mnist.DataSet object at 0x7f1aea4a0630>)\n"
     ]
    }
   ],
   "source": []
  },
  {
   "cell_type": "code",
   "execution_count": null,
   "metadata": {},
   "outputs": [],
   "source": []
  }
 ],
 "metadata": {
  "kernelspec": {
   "display_name": "Python 3",
   "language": "python",
   "name": "python3"
  },
  "language_info": {
   "codemirror_mode": {
    "name": "ipython",
    "version": 3
   },
   "file_extension": ".py",
   "mimetype": "text/x-python",
   "name": "python",
   "nbconvert_exporter": "python",
   "pygments_lexer": "ipython3",
   "version": "3.5.2"
  }
 },
 "nbformat": 4,
 "nbformat_minor": 2
}
