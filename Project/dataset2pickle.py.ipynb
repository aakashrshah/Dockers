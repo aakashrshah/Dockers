{
 "cells": [
  {
   "cell_type": "code",
   "execution_count": 1,
   "metadata": {},
   "outputs": [],
   "source": [
    "import numpy as np\n",
    "import pickle\n",
    "import pandas as pd\n",
    "from sklearn import neighbors, preprocessing\n",
    "from sklearn.model_selection import train_test_split\n",
    "import matplotlib.pyplot as plt\n",
    "from matplotlib import style\n",
    "\n",
    "%matplotlib notebook"
   ]
  },
  {
   "cell_type": "code",
   "execution_count": 2,
   "metadata": {},
   "outputs": [],
   "source": [
    "# Reading Data Set\n",
    "\n",
    "train_file = \"fashionmnist/fashion-mnist_train.csv\"\n",
    "test_file = \"fashionmnist/fashion-mnist_test.csv\"\n",
    "\n",
    "# df_train = pd.read_csv(train_file)\n",
    "# df_test = pd.read_csv(test_file)\n",
    "# df_train.tail()\n",
    "\n",
    "# Converting to Pickle\n",
    "\n",
    "# df_train.to_pickle(\"TrainPickle.data\")\n",
    "# df_test.to_pickle(\"TestPickle.data\")\n",
    "\n",
    "df_train = pd.read_pickle(\"TrainPickle.data\")\n",
    "df_test = pd.read_pickle(\"TestPickle.data\")\n",
    "\n",
    "# No missing data\n",
    "# df.replace('?',-99999,inplace=True)\n",
    "# df.fillna(-99999,inplace=True)"
   ]
  },
  {
   "cell_type": "code",
   "execution_count": 8,
   "metadata": {},
   "outputs": [],
   "source": [
    "# Fitting.\n",
    "label = 'label' #Label variable\n",
    "\n",
    "# # X axis has everything but the labels, and Y axis has only labels.\n",
    "# X_train = np.array(df_train.drop([label],1))\n",
    "# y_train = np.array(df_train[label])\n",
    "\n",
    "# # X axis has everything but the labels, and Y axis has only labels.\n",
    "# X_test = np.array(df_test.drop([label],1))\n",
    "# y_test = np.array(df_test[label])\n",
    "\n",
    "# X_train.dump(\"XTrainPickle.data\")\n",
    "# y_train.dump(\"YTrainPickle.data\")\n",
    "# X_test.dump(\"XTestPickle.data\")\n",
    "# y_test.dump(\"YTestPickle.data\")\n",
    "\n",
    "X_train = np.load(\"XTrainPickle.data\")\n",
    "y_train = np.load(\"YTrainPickle.data\")\n",
    "X_test = np.load(\"XTestPickle.data\")\n",
    "y_test = np.load(\"YTestPickle.data\")"
   ]
  },
  {
   "cell_type": "code",
   "execution_count": 9,
   "metadata": {},
   "outputs": [
    {
     "ename": "TypeError",
     "evalue": "file must have a 'write' attribute",
     "output_type": "error",
     "traceback": [
      "\u001b[0;31m---------------------------------------------------------------------------\u001b[0m",
      "\u001b[0;31mTypeError\u001b[0m                                 Traceback (most recent call last)",
      "\u001b[0;32m<ipython-input-9-c564eee9f3dd>\u001b[0m in \u001b[0;36m<module>\u001b[0;34m()\u001b[0m\n\u001b[1;32m      7\u001b[0m \u001b[0;34m\u001b[0m\u001b[0m\n\u001b[1;32m      8\u001b[0m \u001b[0mclf\u001b[0m \u001b[0;34m=\u001b[0m \u001b[0mneighbors\u001b[0m\u001b[0;34m.\u001b[0m\u001b[0mKNeighborsClassifier\u001b[0m\u001b[0;34m(\u001b[0m\u001b[0mn_jobs\u001b[0m\u001b[0;34m=\u001b[0m\u001b[0;34m-\u001b[0m\u001b[0;36m1\u001b[0m\u001b[0;34m)\u001b[0m\u001b[0;34m\u001b[0m\u001b[0m\n\u001b[0;32m----> 9\u001b[0;31m \u001b[0mpickle\u001b[0m\u001b[0;34m.\u001b[0m\u001b[0mdump\u001b[0m\u001b[0;34m(\u001b[0m\u001b[0mclf\u001b[0m\u001b[0;34m,\u001b[0m\u001b[0;34m\"CLFPickle.data\"\u001b[0m\u001b[0;34m)\u001b[0m\u001b[0;34m\u001b[0m\u001b[0m\n\u001b[0m\u001b[1;32m     10\u001b[0m \u001b[0mclf\u001b[0m \u001b[0;34m=\u001b[0m \u001b[0mpickle\u001b[0m\u001b[0;34m.\u001b[0m\u001b[0mload\u001b[0m\u001b[0;34m(\u001b[0m\u001b[0;34m\"CLFPickle.data\"\u001b[0m\u001b[0;34m)\u001b[0m\u001b[0;34m\u001b[0m\u001b[0m\n\u001b[1;32m     11\u001b[0m \u001b[0maccuracy\u001b[0m \u001b[0;34m=\u001b[0m \u001b[0mclf\u001b[0m\u001b[0;34m.\u001b[0m\u001b[0mscore\u001b[0m\u001b[0;34m(\u001b[0m\u001b[0mX_test\u001b[0m\u001b[0;34m,\u001b[0m \u001b[0my_test\u001b[0m\u001b[0;34m)\u001b[0m\u001b[0;34m\u001b[0m\u001b[0m\n",
      "\u001b[0;31mTypeError\u001b[0m: file must have a 'write' attribute"
     ]
    }
   ],
   "source": [
    "# K Nearest Neighbor\n",
    "\n",
    "clf = neighbors.KNeighborsClassifier(n_jobs=-1)\n",
    "clf.fit(X_train, y_train)\n",
    "accuracy = clf.score(X_test, y_test)\n",
    "print(accuracy)\n",
    "\n",
    "# clf = neighbors.KNeighborsClassifier(n_jobs=-1)\n",
    "# pickle.dump(clf,\"CLFPickle.data\")\n",
    "# clf = pickle.load(\"CLFPickle.data\")\n",
    "# accuracy = clf.score(X_test, y_test)\n",
    "# print(accuracy)"
   ]
  },
  {
   "cell_type": "code",
   "execution_count": 7,
   "metadata": {},
   "outputs": [
    {
     "name": "stdout",
     "output_type": "stream",
     "text": [
      "T-shirt/top\n"
     ]
    }
   ],
   "source": [
    "# K Nearest Neighbor\n",
    "\n",
    "# Scoring and Predicting\n",
    "example_measures = np.array([X_test[0]])\n",
    "prediction = clf.predict(example_measures)\n",
    "\n",
    "# Printing\n",
    "for idx,x in enumerate(prediction):\n",
    "    if(x==0):\n",
    "        print(\"T-shirt/top\")\n",
    "    elif(x==1):\n",
    "        print(\"Trouser\")\n",
    "    elif(x==2):\n",
    "        print(\"Pullover\")\n",
    "    elif(x==3):\n",
    "        print(\"Dress\")\n",
    "    elif(x==4):\n",
    "        print(\"Coat\")\n",
    "    elif(x==5):\n",
    "        print(\"Sandal\")\n",
    "    elif(x==6):\n",
    "        print(\"Shirt\")\n",
    "    elif(x==7):\n",
    "        print(\"Sneaker\")\n",
    "    elif(x==8):\n",
    "        print(\"Bag\")\n",
    "    elif(x==9):\n",
    "        print(\"Ankle boot\")"
   ]
  },
  {
   "cell_type": "code",
   "execution_count": null,
   "metadata": {},
   "outputs": [],
   "source": []
  }
 ],
 "metadata": {
  "kernelspec": {
   "display_name": "Python 3",
   "language": "python",
   "name": "python3"
  },
  "language_info": {
   "codemirror_mode": {
    "name": "ipython",
    "version": 3
   },
   "file_extension": ".py",
   "mimetype": "text/x-python",
   "name": "python",
   "nbconvert_exporter": "python",
   "pygments_lexer": "ipython3",
   "version": "3.5.2"
  }
 },
 "nbformat": 4,
 "nbformat_minor": 2
}
